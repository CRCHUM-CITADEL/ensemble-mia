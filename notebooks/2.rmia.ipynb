{
 "cells": [
  {
   "cell_type": "code",
   "execution_count": 9,
   "id": "4b161139-31b0-4107-9812-6a844c0f5e6d",
   "metadata": {},
   "outputs": [],
   "source": [
    "import sys\n",
    "sys.path.append(\"..\")\n",
    "\n",
    "import pandas as pd\n",
    "import numpy as np\n",
    "from sklearn import metrics\n",
    "import pickle\n",
    "import csv\n",
    "import os\n",
    "import matplotlib.pyplot as plt\n",
    "import shutil"
   ]
  },
  {
   "cell_type": "markdown",
   "id": "545b1141-7dda-4312-9151-53acdb756833",
   "metadata": {},
   "source": [
    "We follow the method laid out in the article: THE CANARY’S ECHO: AUDITING PRIVACY RISKS OF LLM-GENERATED SYNTHETIC TEXT, by Matthieu Meeus, Lukas Wutschitz, Santiago Zanella-Béguelin, Shruti Tople, Reza Shokri   \n",
    "\n",
    "We use the gower distance for our tabular dataset.  \n",
    "\n",
    "What we want to do to test RMIA:\n",
    "1. Compute the RMIA score for each point in each train folder  \n",
    "   RMIA = signal (provided DS) / signal (average of all reference models)\n",
    "2. Get ground truths\n",
    "3. Construct ROC curves, AUC, TPR at FPR"
   ]
  },
  {
   "cell_type": "markdown",
   "id": "acaaf9b7-3541-4c00-af0a-d8ffa1d2db5e",
   "metadata": {},
   "source": [
    "# Train the shadow models"
   ]
  },
  {
   "cell_type": "markdown",
   "id": "6b5372ea-d267-4c58-b6dd-654c01c6930c",
   "metadata": {},
   "source": [
    "16 shadow models were trained for each stage (train, dev, final).   \n",
    "\n",
    "The first four models were trained as follows:\n",
    "1. Initial training set includes 60,000 observations, but NONE of the observations included in the challenge lists of that repo. This is common to the four models.\n",
    "2. TabDDPM is trained on that initial training set. This is common to the four models.\n",
    "3. A new \"fine-tuning\" set is selected with exactly half of the observations included in the challenge lists of that repo for each of the four shadow models. Each observation is included in the fine-tuning set of exactly two (half) of the models. Each observation is repeated 12 times. Each set is shuffled.\n",
    "4. The initial model is fine-tuned independently based on the new set to obtain each shadow model.\n",
    "5. A synthetic dataset of 20K observations is generated for each model.\n",
    "\n",
    "The following four models were trained in the same way, with a new initial training set in the hopes of increased performance (gain was minimal).\n",
    "\n",
    "The following eight models were trained as follows, still in the hopes of increased performance with minimal gain:\n",
    "1. Create eight training sets with exactly half of the observations included in the challenge lists of that repo for each of the eight models. Each observation is included in the training set of exactly four (half) of the models. Each observation is repeated 12 times. Each set is shuffled.\n",
    "2. Train a new TabDDPM model for the eight shadow models.\n",
    "3. A synthetic dataset of 20K observations is generated for each model.\n",
    "\n",
    "The code used is in rmia_shadows.py for the first strategy and rmia_shadows_m8.py for the second strategy."
   ]
  },
  {
   "cell_type": "markdown",
   "id": "8118f0ae-cea3-4a98-8d12-8088307d8b10",
   "metadata": {},
   "source": [
    "# Compute the membership signals"
   ]
  },
  {
   "cell_type": "markdown",
   "id": "628166ec-99ff-4c51-8820-6ae9acf9db9f",
   "metadata": {},
   "source": [
    "The code used to compute the gower matrix and the signals is in rmia_sim_shadows and rmia_sim_target."
   ]
  },
  {
   "cell_type": "markdown",
   "id": "0efe5463-1c57-4a30-9fe9-63f75136c1fc",
   "metadata": {},
   "source": [
    "# Compute the RMIA scores for all the challenge lists"
   ]
  },
  {
   "cell_type": "code",
   "execution_count": 12,
   "id": "335afeba-21d7-4551-855d-75fd3a3728f2",
   "metadata": {},
   "outputs": [],
   "source": [
    "# Where to find the training data and the shadow models trained on it (done for train, dev, final)\n",
    "repo_path = '/data8/projets/dev_synthetic_data/data/MIDST_open/tabddpm_black_box/train'"
   ]
  },
  {
   "cell_type": "code",
   "execution_count": null,
   "id": "c9a156c1-f405-4143-8494-506a38468a8e",
   "metadata": {},
   "outputs": [],
   "source": [
    "# Final code to compute the useful features and RMIA scores\n",
    "k = 5\n",
    "\n",
    "# Load lists of shadow models\n",
    "# The dictionary contain the synthetic data generated using the model \n",
    "# and the observations included in the training set\n",
    "with open(os.path.join(repo_path, 'rmia_shadows.pkl'), 'rb') as file:\n",
    "    shadows_dict = pickle.load(file)\n",
    "with open(os.path.join(repo_path, 'rmia_shadows_2.pkl'), 'rb') as file:\n",
    "    shadows_dict_2 = pickle.load(file)\n",
    "with open(os.path.join(repo_path, 'rmia_shadows_m8.pkl'), 'rb') as file:\n",
    "    shadows_dict_m8 = pickle.load(file)\n",
    "\n",
    "# shadow_lists will be the list of all training sets for the shadow models\n",
    "shadow_lists = shadows_dict['fine_tuning_sets'] + shadows_dict_2['fine_tuning_sets'] + shadows_dict_m8['selected_sets']\n",
    "\n",
    "# For each challenge list in the repo, compute the necessary RMIA (k=1, k=5, in, out)\n",
    "for folder in os.listdir(repo_path):\n",
    "    print(folder)\n",
    "    folder_path = os.path.join(repo_path, folder)\n",
    "    if os.path.isdir(folder_path) and 'tabddpm' in folder:\n",
    "\n",
    "        # Load target\n",
    "        filename = os.path.join(folder_path, 'gower_matrix.csv')\n",
    "        gower_target = np.genfromtxt(filename, delimiter=',')\n",
    "\n",
    "        # Target signals\n",
    "        gower_target_closest = np.sort(gower_target, axis=1)[:, :k]\n",
    "        signal_target = np.mean(gower_target_closest, axis=1)\n",
    "        signal_target_k_1 = np.min(gower_target, axis=1)\n",
    "        \n",
    "        # Load shadows\n",
    "        with open(os.path.join(folder_path, 'gower_matrix_shadow_top_10.pkl'), 'rb') as file:\n",
    "            signal_shadows_dict = pickle.load(file)\n",
    "        with open(os.path.join(folder_path, 'gower_matrix_shadow_2_top_1.pkl'), 'rb') as file:\n",
    "            signal_shadows_dict_2 = pickle.load(file)\n",
    "        with open(os.path.join(folder_path, 'gower_matrix_shadow_m8_top_5.pkl'), 'rb') as file:\n",
    "            signal_shadows_dict_m8 = pickle.load(file)\n",
    "        gower_shadows = np.vstack([np.array(signal_shadows_dict['gower_matrix']),\n",
    "                                   np.array(signal_shadows_dict_2['gower_matrix']),\n",
    "                                   np.array(signal_shadows_dict_m8['gower_matrix']),\n",
    "                                  ])\n",
    "\n",
    "        # Shadow signals\n",
    "        mean_dist_shadow = np.mean(np.sort(gower_shadows, axis=2)[:, :, :k], axis=2)\n",
    "        signal_shadows = np.mean(mean_dist_shadow, axis=0)\n",
    "        \n",
    "        min_dist_shadow = np.min(gower_shadows, axis=2)\n",
    "        signal_shadows_k_1 = np.mean(min_dist_shadow, axis=0)\n",
    "        \n",
    "        signal_shadows = pd.DataFrame(signal_shadows, columns=['signal_shadow_k_'+str(k)])\n",
    "        signal_shadows['signal_shadow_k_1'] = signal_shadows_k_1\n",
    "\n",
    "        # Load trans_id\n",
    "        challenge_df = pd.read_csv(os.path.join(folder_path, 'challenge_with_id.csv'))\n",
    "        signal_shadows['trans_id'] = challenge_df['trans_id']\n",
    "\n",
    "        # Shadow in and out signals\n",
    "        # Create masks of shape (16, 200) where True means that shadow_lists[i] contains trans_id[j] \n",
    "        # for mask_in (and vice versa for mask_out)\n",
    "        mask_in = np.array([[signal_shadows['trans_id'][j] in shadow_lists[i] for j in range(200)] for i in range(len(shadow_lists))])\n",
    "        mask_out = np.array([[signal_shadows['trans_id'][j] not in shadow_lists[i] for j in range(200)] for i in range(len(shadow_lists))])\n",
    "        \n",
    "        # Compute the mean using only valid values (to get the membership signals)\n",
    "        signal_shadows['signal_shadows_in_k_1'] = np.where(mask_in.sum(axis=0) > 0, \n",
    "                                      np.sum(min_dist_shadow * mask_in, axis=0) / mask_in.sum(axis=0),\n",
    "                                      np.nan)  \n",
    "        signal_shadows['signal_shadows_in_k_'+str(k)] = np.where(mask_in.sum(axis=0) > 0,  \n",
    "                                      np.sum(mean_dist_shadow * mask_in, axis=0) / mask_in.sum(axis=0),\n",
    "                                      np.nan)  \n",
    "        signal_shadows['signal_shadows_out_k_1'] = np.where(mask_out.sum(axis=0) > 0,  \n",
    "                                      np.sum(min_dist_shadow * mask_out, axis=0) / mask_out.sum(axis=0),\n",
    "                                      np.nan)  \n",
    "        signal_shadows['signal_shadows_out_k_'+str(k)] = np.where(mask_out.sum(axis=0) > 0, \n",
    "                                      np.sum(mean_dist_shadow * mask_out, axis=0) / mask_out.sum(axis=0),\n",
    "                                      np.nan)  \n",
    "\n",
    "        # RMIA computation and selection of useful features\n",
    "        signal_shadows['signal_target_k_1'] = signal_target_k_1\n",
    "        signal_shadows['signal_target_k_5'] = signal_target\n",
    "        signal_shadows['rmia_k_1'] = signal_shadows['signal_target_k_1'] / signal_shadows['signal_shadow_k_1']\n",
    "        signal_shadows['rmia_k_5'] = signal_shadows['signal_target_k_5'] / signal_shadows['signal_shadow_k_5']\n",
    "        signal_shadows['rmia_out_k_1'] = signal_shadows['signal_target_k_1'] / signal_shadows['signal_shadows_out_k_1']\n",
    "        signal_shadows['rmia_out_k_5'] = signal_shadows['signal_target_k_5'] / signal_shadows['signal_shadows_out_k_5']\n",
    "\n",
    "        # Save to the original folder\n",
    "        file_name = 'challenge_rmia_k1_k'+str(k)+'.csv'\n",
    "        signal_shadows.to_csv(os.path.join(folder_path, file_name), header=True, index=False)\n"
   ]
  },
  {
   "cell_type": "markdown",
   "id": "184ef794-5fe7-46f2-a915-21928f9c77c2",
   "metadata": {},
   "source": [
    "# Compare the performance of RMIA for different values of k"
   ]
  },
  {
   "cell_type": "markdown",
   "id": "ef278646-6d6b-4a77-8194-84b4665251b6",
   "metadata": {},
   "source": [
    "Here we compared the performance of RMIA for different values of k (before settling on k=1 and k=5).\n",
    "We ran it twice (first with k=5 to 25 and then k=1 to 4) - we kept the two figures here."
   ]
  },
  {
   "cell_type": "code",
   "execution_count": null,
   "id": "08b999a3-17b6-4466-bc93-4608d61d181d",
   "metadata": {
    "scrolled": true
   },
   "outputs": [],
   "source": [
    "fpr_tpr_10_all_k_all_folders = []\n",
    "all_k = np.arange(1, 5)  # Avoid redundant list creation\n",
    "\n",
    "for folder in os.listdir(repo_path):\n",
    "    print(folder)\n",
    "    folder_path = os.path.join(repo_path, folder)\n",
    "    if os.path.isdir(folder_path) and 'tabddpm' in folder:\n",
    "        fpr_tpr_10_all_k = []\n",
    "        \n",
    "        # Load target\n",
    "        filename = os.path.join(folder_path, 'gower_matrix.csv')\n",
    "        gower_target = np.genfromtxt(filename, delimiter=',')\n",
    "\n",
    "        # Load shadows\n",
    "        with open(os.path.join(folder_path, 'gower_matrix_shadow_top_10.pkl'), 'rb') as file:\n",
    "            signal_shadows_dict = pickle.load(file)\n",
    "        with open(os.path.join(folder_path, 'gower_matrix_shadow_m8_top_5.pkl'), 'rb') as file:\n",
    "            signal_shadows_m8_dict = pickle.load(file)\n",
    "        gower_shadows = np.vstack([\n",
    "                                    np.array(signal_shadows_dict['gower_matrix']),\n",
    "                                    np.array(signal_shadows_m8_dict['gower_matrix'])\n",
    "                                ])\n",
    "\n",
    "        # Load labels\n",
    "        df = pd.read_csv(os.path.join(folder_path, 'challenge_label.csv'))\n",
    "\n",
    "        for k in all_k:\n",
    "            print(k)\n",
    "            # Target signals\n",
    "            gower_target_closest = np.sort(gower_target, axis=1)[:, :k]\n",
    "            signal_target = np.mean(gower_target_closest, axis=1)\n",
    "\n",
    "            # Shadow signals\n",
    "            mean_dist_shadow = np.mean(np.sort(gower_shadows, axis=2)[:, :, :k], axis=2)\n",
    "            signal_shadows = np.mean(mean_dist_shadow, axis=0)\n",
    "\n",
    "            # RMIA computation\n",
    "            rmia = signal_target / signal_shadows\n",
    "            df['rmia'] = rmia\n",
    "\n",
    "            # Compute ROC curve & interpolate FPR at TPR = 0.1\n",
    "            fpr, tpr, _ = metrics.roc_curve(df['is_train'], df['rmia'])\n",
    "            fpr_at_tpr_0_1 = np.interp(0.1, tpr, fpr)\n",
    "\n",
    "            fpr_tpr_10_all_k.append(fpr_at_tpr_0_1) \n",
    "\n",
    "        fpr_tpr_10_all_k_all_folders.append(fpr_tpr_10_all_k)\n",
    "\n",
    "# Now, compute the mean across all folders for each k\n",
    "fpr_tpr_10_mean = np.mean(fpr_tpr_10_all_k_all_folders, axis=0)\n"
   ]
  },
  {
   "cell_type": "code",
   "execution_count": 365,
   "id": "238c584e-7733-40fe-a214-90a69d24c03e",
   "metadata": {},
   "outputs": [
    {
     "data": {
      "image/png": "[encoded data removed]",
      "text/plain": [
       "<Figure size 800x600 with 1 Axes>"
      ]
     },
     "metadata": {},
     "output_type": "display_data"
    }
   ],
   "source": [
    "# Plot the mean FPR at TPR = 0.1 for each k\n",
    "# The output here is when we ran it for k=1 to k=4\n",
    "plt.figure(figsize=(8, 6))\n",
    "plt.plot(all_k, fpr_tpr_10_mean, marker='o', color='b', label='Mean FPR at TPR=0.1')\n",
    "plt.xlabel('k')\n",
    "plt.ylabel('FPR at TPR=0.1')\n",
    "plt.title('FPR at TPR=0.1 vs k')\n",
    "plt.grid(True)\n",
    "plt.legend()\n",
    "\n",
    "# Set x-axis ticks to show integers only\n",
    "plt.xticks(all_k)\n",
    "\n",
    "plt.tight_layout()\n",
    "plt.show()"
   ]
  },
  {
   "cell_type": "code",
   "execution_count": 66,
   "id": "c3e3d2f7-a6a9-46c6-8e64-1553053fc340",
   "metadata": {},
   "outputs": [
    {
     "data": {
      "image/png": "[encoded data removed]",
      "text/plain": [
       "<Figure size 800x600 with 1 Axes>"
      ]
     },
     "metadata": {},
     "output_type": "display_data"
    }
   ],
   "source": [
    "# Plot the mean FPR at TPR = 0.1 for each k\n",
    "# The output here is when we ran it for k=5 to k=25\n",
    "plt.figure(figsize=(8, 6))\n",
    "plt.plot(all_k, fpr_tpr_10_mean, marker='o', color='b', label='Mean FPR at TPR=0.1')\n",
    "plt.xlabel('k')\n",
    "plt.ylabel('FPR at TPR=0.1')\n",
    "plt.title('FPR at TPR=0.1 vs k')\n",
    "plt.grid(True)\n",
    "plt.legend()\n",
    "\n",
    "# Set x-axis ticks to show integers only\n",
    "plt.xticks(all_k)\n",
    "\n",
    "plt.tight_layout()\n",
    "plt.show()"
   ]
  },
  {
   "cell_type": "markdown",
   "id": "173b98c2-b9a1-4c54-9ee3-215e7984fa16",
   "metadata": {},
   "source": [
    "# Run RMIA for the training set of the metaclassifier"
   ]
  },
  {
   "cell_type": "markdown",
   "id": "0ee6822b-a21d-4834-92da-d55a41b8ab7b",
   "metadata": {},
   "source": [
    "Steps:\n",
    "1. create the training dataset made up of all the challenge points with is_train=1 in the train repo + points that are not in challenge_points to complete (the final dataset must contain 20K observations)  \n",
    "Location of the challenge points: /data8/projets/dev_synthetic_data/data/MIDST_open/tabddpm_black_box/train/metaclassifier_target_model_rmia/master_challenge.csv\n",
    "3. generate 20K synthetic data points which become the \"true\" synthetic data  \n",
    "Location: /data8/projets/dev_synthetic_data/data/MIDST_open/tabddpm_black_box/train/metaclassifier_target_model_rmia/synthetic_data.csv\n",
    "5. compute the gower distance and the membership signals wrt these new synthetic data points"
   ]
  },
  {
   "cell_type": "code",
   "execution_count": 98,
   "id": "e5dc0217-8be2-4ef6-b3d7-ccc8634274c3",
   "metadata": {},
   "outputs": [],
   "source": [
    "# update the repo path\n",
    "repo_path = '/data8/projets/dev_synthetic_data/data/MIDST_open/tabddpm_black_box/train'"
   ]
  },
  {
   "cell_type": "code",
   "execution_count": 367,
   "id": "f25e29ae-92fc-4034-9315-e4f788213894",
   "metadata": {},
   "outputs": [],
   "source": [
    "master_gower_matrix_target = np.genfromtxt('/data8/projets/dev_synthetic_data/data/MIDST_open/tabddpm_black_box/train/metaclassifier_target_model_rmia/gower_matrix.csv',\n",
    "                                           delimiter=',')\n",
    "master_signal_target = np.genfromtxt('/data8/projets/dev_synthetic_data/data/MIDST_open/tabddpm_black_box/train/metaclassifier_target_model_rmia/mean_gower_distance_top_5.csv', \n",
    "                              delimiter=',')"
   ]
  },
  {
   "cell_type": "code",
   "execution_count": null,
   "id": "8ae8b02f-d7a6-49d4-846e-ab310e72a901",
   "metadata": {},
   "outputs": [],
   "source": [
    "signal_shadows_all = []\n",
    "k = 5\n",
    "\n",
    "master_challenge = pd.read_csv('/data8/projets/dev_synthetic_data/data/MIDST_open/tabddpm_black_box/train/metaclassifier_target_model_rmia/master_challenge.csv')\n",
    "master_signal_target = pd.DataFrame({'trans_id': master_challenge['trans_id'],\n",
    "                                     'signal_target_k_5': master_signal_target,\n",
    "                                     'signal_target_k_1': np.min(master_gower_matrix_target, axis=1)})\n",
    "\n",
    "# Load lists of shadow models\n",
    "with open(os.path.join(repo_path, 'rmia_shadows.pkl'), 'rb') as file:\n",
    "    shadows_dict = pickle.load(file)\n",
    "with open(os.path.join(repo_path, 'rmia_shadows_2.pkl'), 'rb') as file:\n",
    "    shadows_dict_2 = pickle.load(file)\n",
    "with open(os.path.join(repo_path, 'rmia_shadows_m8.pkl'), 'rb') as file:\n",
    "    shadows_dict_m8 = pickle.load(file)\n",
    "\n",
    "# Concatenate the lists of observations included in the training of the shadow models\n",
    "shadow_lists = shadows_dict['fine_tuning_sets'] + shadows_dict_2['fine_tuning_sets'] + shadows_dict_m8['selected_sets']\n",
    "len(shadow_lists)\n",
    "\n",
    "for folder in os.listdir(repo_path):\n",
    "    print(folder)\n",
    "    folder_path = os.path.join(repo_path, folder)\n",
    "    if os.path.isdir(folder_path) and 'tabddpm' in folder:\n",
    "        \n",
    "        # Load the membership signals for all shadow models\n",
    "        with open(os.path.join(folder_path, 'gower_matrix_shadow_top_10.pkl'), 'rb') as file:\n",
    "            signal_shadows_dict = pickle.load(file)\n",
    "        with open(os.path.join(folder_path, 'gower_matrix_shadow_2_top_1.pkl'), 'rb') as file:\n",
    "            signal_shadows_dict_2 = pickle.load(file)\n",
    "        with open(os.path.join(folder_path, 'gower_matrix_shadow_m8_top_5.pkl'), 'rb') as file:\n",
    "            signal_shadows_dict_m8 = pickle.load(file)\n",
    "        gower_shadows = np.vstack([np.array(signal_shadows_dict['gower_matrix']),\n",
    "                                   np.array(signal_shadows_dict_2['gower_matrix']),\n",
    "                                   np.array(signal_shadows_dict_m8['gower_matrix']),\n",
    "                                  ])\n",
    "\n",
    "        # Shadow signals\n",
    "        mean_dist_shadow = np.mean(np.sort(gower_shadows, axis=2)[:, :, :k], axis=2)\n",
    "        signal_shadows = np.mean(mean_dist_shadow, axis=0)\n",
    "        \n",
    "        min_dist_shadow = np.min(gower_shadows, axis=2)\n",
    "        signal_shadows_k_1 = np.mean(min_dist_shadow, axis=0)\n",
    "        \n",
    "        signal_shadows = pd.DataFrame(signal_shadows, columns=['signal_shadow_k_'+str(k)])\n",
    "        signal_shadows['signal_shadow_k_1'] = signal_shadows_k_1\n",
    "\n",
    "        # Load trans_id\n",
    "        challenge_df = pd.read_csv(os.path.join(folder_path, 'challenge_with_id.csv'))\n",
    "        signal_shadows['trans_id'] = challenge_df['trans_id']\n",
    "\n",
    "        # Shadow in and out signals\n",
    "        # Step 1: Create mask of shape (16, 200) where True means that shadow_lists[i] contains trans_id[j]\n",
    "        mask_in = np.array([[signal_shadows['trans_id'][j] in shadow_lists[i] for j in range(200)] for i in range(len(shadow_lists))])\n",
    "        mask_out = np.array([[signal_shadows['trans_id'][j] not in shadow_lists[i] for j in range(200)] for i in range(len(shadow_lists))])\n",
    "        \n",
    "        # Step 2: Compute mean using only valid values\n",
    "        signal_shadows['signal_shadows_in_k_1'] = np.where(mask_in.sum(axis=0) > 0,\n",
    "                                      np.sum(min_dist_shadow * mask_in, axis=0) / mask_in.sum(axis=0),\n",
    "                                      np.nan)  \n",
    "        signal_shadows['signal_shadows_in_k_'+str(k)] = np.where(mask_in.sum(axis=0) > 0,\n",
    "                                      np.sum(mean_dist_shadow * mask_in, axis=0) / mask_in.sum(axis=0),\n",
    "                                      np.nan)  \n",
    "        signal_shadows['signal_shadows_out_k_1'] = np.where(mask_out.sum(axis=0) > 0, \n",
    "                                      np.sum(min_dist_shadow * mask_out, axis=0) / mask_out.sum(axis=0),\n",
    "                                      np.nan)  \n",
    "        signal_shadows['signal_shadows_out_k_'+str(k)] = np.where(mask_out.sum(axis=0) > 0, \n",
    "                                      np.sum(mean_dist_shadow * mask_out, axis=0) / mask_out.sum(axis=0),\n",
    "                                      np.nan) \n",
    "\n",
    "        signal_shadows_all.append(signal_shadows)\n",
    "\n",
    "master_signal_shadow = pd.concat(signal_shadows_all, ignore_index=True).drop_duplicates()"
   ]
  },
  {
   "cell_type": "code",
   "execution_count": 137,
   "id": "b9eef004-7254-47d0-947c-f453a3edb7c3",
   "metadata": {},
   "outputs": [],
   "source": [
    "# Load the true labels\n",
    "master_challenges_labels = pd.read_csv('/data8/projets/dev_synthetic_data/data/MIDST_open/tabddpm_black_box/train/metaclassifier_target_model_rmia/master_challenge_labels.csv')"
   ]
  },
  {
   "cell_type": "code",
   "execution_count": 386,
   "id": "c6006014-1260-417f-b8b1-07ac1974a1fc",
   "metadata": {},
   "outputs": [
    {
     "data": {
      "text/plain": [
       "Index(['trans_id', 'signal_target_k_5', 'signal_target_k_1'], dtype='object')"
      ]
     },
     "execution_count": 386,
     "metadata": {},
     "output_type": "execute_result"
    }
   ],
   "source": [
    "master_signal_target.columns"
   ]
  },
  {
   "cell_type": "code",
   "execution_count": 387,
   "id": "2ba3e4f9-e79f-48f7-a913-83fd5e972159",
   "metadata": {},
   "outputs": [],
   "source": [
    "# Create a dataframe with the signals and the labels\n",
    "master_signal = master_challenge.merge(master_signal_shadow, on='trans_id', how='left')\n",
    "master_signal = master_signal.merge(master_signal_target, on='trans_id', how='left')\n",
    "master_signal = master_signal[['trans_id', \n",
    "                               'signal_target_k_1', 'signal_target_k_5',\n",
    "                               'signal_shadow_k_1', 'signal_shadow_k_5',\n",
    "                               'signal_shadows_in_k_1', 'signal_shadows_in_k_5',\n",
    "                               'signal_shadows_out_k_1', 'signal_shadows_out_k_5']]\n",
    "master_signal = master_signal.drop_duplicates(subset='trans_id', keep='first').reset_index(drop=True).copy()"
   ]
  },
  {
   "cell_type": "code",
   "execution_count": 388,
   "id": "139dd73c-d5dc-4e23-a42f-198fa875027d",
   "metadata": {},
   "outputs": [
    {
     "data": {
      "text/plain": [
       "0.1873324396782842"
      ]
     },
     "execution_count": 388,
     "metadata": {},
     "output_type": "execute_result"
    }
   ],
   "source": [
    "# RMIA computation\n",
    "master_signal['rmia_k_1'] = master_signal['signal_target_k_1'] / master_signal['signal_shadow_k_1']\n",
    "master_signal['rmia_k_5'] = master_signal['signal_target_k_5'] / master_signal['signal_shadow_k_5']\n",
    "master_signal['rmia_out_k_1'] = master_signal['signal_target_k_1'] / master_signal['signal_shadows_out_k_1']\n",
    "master_signal['rmia_out_k_5'] = master_signal['signal_target_k_5'] / master_signal['signal_shadows_out_k_5']\n",
    "\n",
    "# Compute ROC curve & interpolate FPR at TPR = 0.1, using the RMIA with k=1 as the probability\n",
    "fpr, tpr, _ = metrics.roc_curve(master_challenges_labels['is_train'], master_signal['rmia_k_1'])\n",
    "fpr_at_tpr_0_1 = np.interp(0.1, tpr, fpr)\n",
    "\n",
    "fpr_at_tpr_0_1"
   ]
  },
  {
   "cell_type": "code",
   "execution_count": 389,
   "id": "6d4c243f-9747-4bbf-a07f-154335187c29",
   "metadata": {},
   "outputs": [
    {
     "data": {
      "text/plain": [
       "0.1427613941018767"
      ]
     },
     "execution_count": 389,
     "metadata": {},
     "output_type": "execute_result"
    }
   ],
   "source": [
    "# Compute ROC curve & interpolate FPR at TPR = 0.1, using the RMIA with k=5 as the probability\n",
    "fpr, tpr, _ = metrics.roc_curve(master_challenges_labels['is_train'], master_signal['rmia_k_5'])\n",
    "fpr_at_tpr_0_1 = np.interp(0.1, tpr, fpr)\n",
    "\n",
    "fpr_at_tpr_0_1"
   ]
  },
  {
   "cell_type": "code",
   "execution_count": 391,
   "id": "28d2f99f-e339-4f6e-8c82-9e2abf7b91db",
   "metadata": {},
   "outputs": [
    {
     "data": {
      "text/plain": [
       "0.19101876675603216"
      ]
     },
     "execution_count": 391,
     "metadata": {},
     "output_type": "execute_result"
    }
   ],
   "source": [
    "# Compute ROC curve & interpolate FPR at TPR = 0.1, \n",
    "# using the RMIA with k=1 as the probability,\n",
    "# and only including shadow models that do not include the point in their training set in the denominator\n",
    "fpr, tpr, _ = metrics.roc_curve(master_challenges_labels['is_train'], master_signal['rmia_out_k_1'])\n",
    "fpr_at_tpr_0_1 = np.interp(0.1, tpr, fpr)\n",
    "\n",
    "fpr_at_tpr_0_1"
   ]
  },
  {
   "cell_type": "code",
   "execution_count": 392,
   "id": "aeebaeb7-5b1d-4321-b8fc-55eafaafe989",
   "metadata": {},
   "outputs": [
    {
     "data": {
      "text/plain": [
       "0.14912868632707774"
      ]
     },
     "execution_count": 392,
     "metadata": {},
     "output_type": "execute_result"
    }
   ],
   "source": [
    "# Compute ROC curve & interpolate FPR at TPR = 0.1 using the RMIA with k=5 as the probability,\n",
    "# and only including shadow models that do not include the point in their training set in the denominator\n",
    "fpr, tpr, _ = metrics.roc_curve(master_challenges_labels['is_train'], master_signal['rmia_out_k_5'])\n",
    "fpr_at_tpr_0_1 = np.interp(0.1, tpr, fpr)\n",
    "\n",
    "fpr_at_tpr_0_1"
   ]
  },
  {
   "cell_type": "code",
   "execution_count": 394,
   "id": "861a147f-ae27-4a2e-8b05-00a0aa199cd4",
   "metadata": {},
   "outputs": [],
   "source": [
    "# Save master dataframe\n",
    "file_name = 'master_challenge_rmia_k1_k5.csv'\n",
    "master_signal.to_csv(os.path.join('/data8/projets/dev_synthetic_data/data/MIDST_open/tabddpm_black_box/train/metaclassifier_target_model_rmia', \n",
    "                        file_name),\n",
    "                     header=True, index=False)"
   ]
  },
  {
   "cell_type": "code",
   "execution_count": 399,
   "id": "3c43deee-7312-40c4-9eb6-f2e5cda3b4fc",
   "metadata": {},
   "outputs": [
    {
     "data": {
      "text/plain": [
       "Index(['trans_id', 'signal_target_k_1', 'signal_target_k_5',\n",
       "       'signal_shadow_k_1', 'signal_shadow_k_5', 'signal_shadows_in_k_1',\n",
       "       'signal_shadows_in_k_5', 'signal_shadows_out_k_1',\n",
       "       'signal_shadows_out_k_5', 'rmia_k_1', 'rmia_k_5', 'rmia_out_k_1',\n",
       "       'rmia_out_k_5'],\n",
       "      dtype='object')"
      ]
     },
     "execution_count": 399,
     "metadata": {},
     "output_type": "execute_result"
    }
   ],
   "source": [
    "master_signal.columns"
   ]
  },
  {
   "cell_type": "markdown",
   "id": "dbc546b4-e6a4-4ef8-a32b-695929409eba",
   "metadata": {},
   "source": [
    "# To send"
   ]
  },
  {
   "cell_type": "code",
   "execution_count": 419,
   "id": "f58e14fc-b439-44ad-8620-a21d5c1b29d5",
   "metadata": {},
   "outputs": [
    {
     "name": "stdout",
     "output_type": "stream",
     "text": [
      "Copied 30 files to /data8/projets/dev_synthetic_data/data/MIDST_open/tabddpm_black_box/train/train_master_challenge_rmia_k1_k5\n",
      "Zipped folder into /data8/projets/dev_synthetic_data/data/MIDST_open/tabddpm_black_box/train/train_master_challenge_rmia_k1_k5.zip\n"
     ]
    }
   ],
   "source": [
    "# Create the master directory\n",
    "repo_path = \"/data8/projets/dev_synthetic_data/data/MIDST_open/tabddpm_black_box/train\"\n",
    "\n",
    "master_dir = os.path.join(repo_path, \"train_master_challenge_rmia_k1_k5\")\n",
    "os.makedirs(master_dir, exist_ok=True)\n",
    "\n",
    "# Get all folders containing \"tabddpm\" in their name\n",
    "folders = [f for f in os.listdir(repo_path) if \"tabddpm\" in f and os.path.isdir(os.path.join(repo_path, f))]\n",
    "\n",
    "# Copy and rename the files\n",
    "for folder in folders:\n",
    "    src_file = os.path.join(repo_path, folder, \"challenge_rmia_k1_k5.csv\")\n",
    "    if os.path.exists(src_file):\n",
    "        dest_file = os.path.join(master_dir, f\"challenge_rmia_k1_k5_{folder}.csv\")\n",
    "        shutil.copy2(src_file, dest_file) \n",
    "\n",
    "print(f\"Copied {len(folders)} files to {master_dir}\")\n",
    "\n",
    "zip_name = master_dir \n",
    "shutil.make_archive(zip_name, 'zip', master_dir)"
   ]
  },
  {
   "cell_type": "code",
   "execution_count": null,
   "id": "8d93ebe6-8616-45cb-aef3-939ba8c997d6",
   "metadata": {},
   "outputs": [],
   "source": []
  }
 ],
 "metadata": {
  "kernelspec": {
   "display_name": "Python 3 (ipykernel)",
   "language": "python",
   "name": "python3"
  },
  "language_info": {
   "codemirror_mode": {
    "name": "ipython",
    "version": 3
   },
   "file_extension": ".py",
   "mimetype": "text/x-python",
   "name": "python",
   "nbconvert_exporter": "python",
   "pygments_lexer": "ipython3",
   "version": "3.10.11"
  }
 },
 "nbformat": 4,
 "nbformat_minor": 5
}
