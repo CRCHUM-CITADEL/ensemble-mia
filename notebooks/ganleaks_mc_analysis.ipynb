{
 "cells": [
  {
   "cell_type": "markdown",
   "id": "aa213a61-fc75-44a9-b814-bef1f493f5f2",
   "metadata": {},
   "source": [
    "# MIA with GAN-Leaks and Monte Carlo Membership\n",
    "The performance of the distance based attack models is influenced by the amount of the synthetic data used as input of the model.  In this notebook, we explore the relationship between the effaciency of the model and the number of generated samples used.\n",
    "\n",
    "We assume that the well-trained generator is available. "
   ]
  },
  {
   "cell_type": "markdown",
   "id": "93b49abf-b252-40da-b25c-382b3603db0c",
   "metadata": {},
   "source": [
    "# 1 Initiation"
   ]
  },
  {
   "cell_type": "code",
   "execution_count": 1,
   "id": "1107603c-6203-4e68-a540-b673d2e815bb",
   "metadata": {},
   "outputs": [],
   "source": [
    "# Standard library\n",
    "import sys\n",
    "\n",
    "sys.path.append(\"../..\")\n",
    "\n",
    "import tempfile\n",
    "\n",
    "# 3rd party packages\n",
    "import numpy as np\n",
    "import pandas as pd\n",
    "from matplotlib import pyplot as plt\n",
    "\n",
    "# Local packages\n",
    "from generators.mst_generator import MSTGenerator\n",
    "from metrics.privacy.membership import GANLeaks, MCMembership\n",
    "from mia_ensemble.src import config\n",
    "from mia_ensemble.src.attack import Ensemble\n",
    "from mia_ensemble.src.data import real_data"
   ]
  },
  {
   "cell_type": "markdown",
   "id": "f1c9db95-fab0-411a-ad39-fb22123e4b47",
   "metadata": {},
   "source": [
    "# 2 Data and generator"
   ]
  },
  {
   "cell_type": "code",
   "execution_count": 2,
   "id": "7a738c54-e361-4d7a-bbe9-470c477ad01c",
   "metadata": {},
   "outputs": [],
   "source": [
    "generator = \"mst\"\n",
    "path = config.OUTPUT_PATH / generator"
   ]
  },
  {
   "cell_type": "markdown",
   "id": "f598fd01-e8b1-494b-ad34-c12ce9df9fbb",
   "metadata": {},
   "source": [
    "## 2.1 Load the real data"
   ]
  },
  {
   "cell_type": "code",
   "execution_count": 4,
   "id": "55dd4bd8-0592-4b5f-ab3b-3d1ceb88529b",
   "metadata": {},
   "outputs": [],
   "source": [
    "df_real_train = pd.read_csv(path / \"data\" / \"real\" / \"real_train.csv\")\n",
    "df_real_control_val = pd.read_csv(path / \"data\" / \"real\" / \"real_control_val.csv\")\n",
    "df_real_control_test = pd.read_csv(path / \"data\" / \"real\" / \"real_control_test.csv\")"
   ]
  },
  {
   "cell_type": "code",
   "execution_count": 5,
   "id": "435fd500-7bdc-477d-b874-e11e6e4910b1",
   "metadata": {},
   "outputs": [],
   "source": [
    "# Build test set\n",
    "\n",
    "cat_cols = [\n",
    "    col for col in df_real_train.columns if col not in config.metadata[\"continuous\"]\n",
    "]\n",
    "\n",
    "_, _, df_test, y_test = Ensemble.prepare_data(\n",
    "    df_real_train=df_real_train,\n",
    "    df_real_control_val=df_real_control_val,\n",
    "    df_real_control_test=df_real_control_test,\n",
    "    cat_cols=cat_cols,\n",
    "    seed=config.seed,\n",
    ")"
   ]
  },
  {
   "cell_type": "markdown",
   "id": "54e32be4-822a-4854-b982-91ea31c1be84",
   "metadata": {},
   "source": [
    "## 2.2 Load trained generator"
   ]
  },
  {
   "cell_type": "code",
   "execution_count": 12,
   "id": "697e439b-5e71-4ed0-805c-fbe779d9e298",
   "metadata": {},
   "outputs": [],
   "source": [
    "gen = MSTGenerator(\n",
    "    df=df_real_train,\n",
    "    metadata=config.metadata,\n",
    "    random_state=config.seed,\n",
    "    generator_filepath=path\n",
    "    / \"generator\"\n",
    "    / \"1st_generation\"\n",
    "    / \"2024-04-24_MST.pkl\",  # to load an existing generator\n",
    "    epsilon=1e5,\n",
    "    delta=0.9999,\n",
    ")\n",
    "\n",
    "gen.preprocess()"
   ]
  },
  {
   "cell_type": "markdown",
   "id": "9704ef5a-5227-486b-9c90-75dd0f7030eb",
   "metadata": {},
   "source": [
    "# 3 Membership inference attack"
   ]
  },
  {
   "cell_type": "code",
   "execution_count": 9,
   "id": "574e3d5a-d591-45c0-b91d-fc2e9531eb79",
   "metadata": {},
   "outputs": [],
   "source": [
    "n_synth_sample = np.logspace(\n",
    "    start=np.log10(int(0.01 * len(df_real_train))),\n",
    "    stop=np.log10(10 * len(df_real_train)),\n",
    "    num=20,\n",
    "    dtype=np.int32,\n",
    ")"
   ]
  },
  {
   "cell_type": "code",
   "execution_count": 23,
   "id": "4fda75cc-8aeb-46e0-9496-acc03684d6c4",
   "metadata": {},
   "outputs": [
    {
     "data": {
      "text/plain": [
       "array([   103,    149,    215,    309,    445,    640,    921,   1326,\n",
       "         1907,   2744,   3948,   5679,   8170,  11754,  16910,  24326,\n",
       "        34995,  50344,  72425, 104189], dtype=int32)"
      ]
     },
     "execution_count": 23,
     "metadata": {},
     "output_type": "execute_result"
    }
   ],
   "source": [
    "n_synth_sample"
   ]
  },
  {
   "cell_type": "code",
   "execution_count": 13,
   "id": "6d81f33b-7a21-4bc7-a8dc-4247a4b160e2",
   "metadata": {},
   "outputs": [],
   "source": [
    "iteration = 10\n",
    "ganleaks_top1_precision = {}\n",
    "ganleaks_top50_precision = {}\n",
    "mc_top1_precision = {}\n",
    "mc_top50_precision = {}\n",
    "\n",
    "temp_dir = tempfile.TemporaryDirectory()\n",
    "\n",
    "for n in n_synth_sample:\n",
    "    ganleaks_top1_precision[f\"{n}samples\"] = []\n",
    "    ganleaks_top50_precision[f\"{n}samples\"] = []\n",
    "    mc_top1_precision[f\"{n}samples\"] = []\n",
    "    mc_top50_precision[f\"{n}samples\"] = []\n",
    "\n",
    "    for i in range(iteration):\n",
    "        df_synth = gen.sample(\n",
    "            save_path=temp_dir.name,  # the path should exist\n",
    "            num_samples=n,\n",
    "        )\n",
    "\n",
    "        ganleaks = GANLeaks()\n",
    "        precision_top1_ganleaks, precision_top50_ganleaks, _, _, _ = ganleaks.eval(\n",
    "            df_test=df_test,\n",
    "            y_test=y_test,\n",
    "            df_synth=df_synth,\n",
    "            cat_cols=config.metadata[\"categorical\"],\n",
    "        )\n",
    "\n",
    "        ganleaks_top1_precision[f\"{n}samples\"].append(precision_top1_ganleaks)\n",
    "        ganleaks_top50_precision[f\"{n}samples\"].append(precision_top50_ganleaks)\n",
    "\n",
    "        mcmembership = MCMembership()\n",
    "        (\n",
    "            precision_top1_mcmembership,\n",
    "            precision_top50_mcmembership,\n",
    "            _,\n",
    "        ) = mcmembership.eval(\n",
    "            df_test=df_test,\n",
    "            y_test=y_test,\n",
    "            df_synth=df_synth,\n",
    "            cat_cols=config.metadata[\"categorical\"],\n",
    "        )\n",
    "        mc_top1_precision[f\"{n}samples\"].append(precision_top1_mcmembership)\n",
    "        mc_top50_precision[f\"{n}samples\"].append(precision_top50_mcmembership)\n",
    "\n",
    "\n",
    "temp_dir.cleanup()"
   ]
  },
  {
   "cell_type": "markdown",
   "id": "2909a037-b878-4e51-b1ab-af3a03cfdf0f",
   "metadata": {},
   "source": [
    "# 4 Visualize the result"
   ]
  },
  {
   "cell_type": "code",
   "execution_count": 15,
   "id": "67921d02-0e29-4ec4-a69e-949626f09860",
   "metadata": {},
   "outputs": [],
   "source": [
    "# Convert results to pandas DataFrame\n",
    "df_ganleaks_top1 = pd.DataFrame(ganleaks_top1_precision)\n",
    "df_ganleaks_top50 = pd.DataFrame(ganleaks_top50_precision)\n",
    "\n",
    "df_mc_top1 = pd.DataFrame(mc_top1_precision)\n",
    "df_mc_top50 = pd.DataFrame(mc_top50_precision)\n",
    "\n",
    "# Append mean and std\n",
    "df_ganleaks_top1.loc[\"mean\"] = df_ganleaks_top1.mean(axis=0)\n",
    "df_ganleaks_top1.loc[\"std\"] = df_ganleaks_top1.std(axis=0)\n",
    "df_ganleaks_top50.loc[\"mean\"] = df_ganleaks_top50.mean(axis=0)\n",
    "df_ganleaks_top50.loc[\"std\"] = df_ganleaks_top50.std(axis=0)\n",
    "\n",
    "df_mc_top1.loc[\"mean\"] = df_mc_top1.mean(axis=0)\n",
    "df_mc_top1.loc[\"std\"] = df_mc_top1.std(axis=0)\n",
    "df_mc_top50.loc[\"mean\"] = df_mc_top50.mean(axis=0)\n",
    "df_mc_top50.loc[\"std\"] = df_mc_top50.std(axis=0)"
   ]
  },
  {
   "cell_type": "code",
   "execution_count": 17,
   "id": "20e1d8a0-36a2-4d58-a17b-9ff533de7318",
   "metadata": {},
   "outputs": [],
   "source": [
    "# Save the result\n",
    "\n",
    "df_ganleaks_top1.to_csv(\n",
    "    f\"{generator}_ganleaks_top1.csv\",\n",
    "    index=False,\n",
    ")\n",
    "df_ganleaks_top50.to_csv(\n",
    "    f\"{generator}_ganleaks_top50.csv\",\n",
    "    index=False,\n",
    ")\n",
    "df_mc_top1.to_csv(\n",
    "    f\"{generator}_mc_top1.csv\",\n",
    "    index=False,\n",
    ")\n",
    "df_mc_top50.to_csv(\n",
    "    f\"{generator}_mc_top50.csv\",\n",
    "    index=False,\n",
    ")"
   ]
  },
  {
   "cell_type": "code",
   "execution_count": 28,
   "id": "e4a3a642-578a-4f42-9afd-6cf4b16796b6",
   "metadata": {},
   "outputs": [
    {
     "data": {
      "image/png": "[encoded data removed]",
      "text/plain": [
       "<Figure size 1600x500 with 2 Axes>"
      ]
     },
     "metadata": {},
     "output_type": "display_data"
    }
   ],
   "source": [
    "# Plot\n",
    "\n",
    "fig, axs = plt.subplots(1, 2, figsize=(16, 5))\n",
    "axs[0].errorbar(\n",
    "    x=n_synth_sample,\n",
    "    y=df_ganleaks_top1.loc[\"mean\"],\n",
    "    yerr=df_ganleaks_top1.loc[\"std\"],\n",
    "    color=\"red\",\n",
    "    linewidth=1,\n",
    "    marker=\"s\",\n",
    "    mfc=\"red\",\n",
    "    mec=\"red\",\n",
    "    ms=5,\n",
    "    ecolor=\"red\",\n",
    "    elinewidth=2,\n",
    "    capsize=5,\n",
    "    capthick=2,\n",
    "    label=\"GAN-Leaks\",\n",
    ")\n",
    "axs[0].errorbar(\n",
    "    x=n_synth_sample,\n",
    "    y=df_mc_top1.loc[\"mean\"],\n",
    "    yerr=df_mc_top1.loc[\"std\"],\n",
    "    color=\"blue\",\n",
    "    linewidth=1,\n",
    "    marker=\"s\",\n",
    "    mfc=\"blue\",\n",
    "    mec=\"blue\",\n",
    "    ms=5,\n",
    "    ecolor=\"blue\",\n",
    "    elinewidth=2,\n",
    "    capsize=5,\n",
    "    capthick=2,\n",
    "    label=\"MC Membership\",\n",
    ")\n",
    "axs[0].set_xscale(\"log\")\n",
    "axs[0].set_xlabel(\"# of synthetic samples\")\n",
    "axs[0].set(ylim=[0.3, 0.8])\n",
    "axs[0].legend()\n",
    "axs[0].set_title(\"Top 1% precision\")\n",
    "\n",
    "axs[1].errorbar(\n",
    "    x=n_synth_sample,\n",
    "    y=df_ganleaks_top50.loc[\"mean\"],\n",
    "    yerr=df_ganleaks_top50.loc[\"std\"],\n",
    "    color=\"red\",\n",
    "    linewidth=1,\n",
    "    marker=\"s\",\n",
    "    mfc=\"red\",\n",
    "    mec=\"red\",\n",
    "    ms=5,\n",
    "    ecolor=\"red\",\n",
    "    elinewidth=2,\n",
    "    capsize=5,\n",
    "    capthick=2,\n",
    "    label=\"GAN-Leaks\",\n",
    ")\n",
    "axs[1].errorbar(\n",
    "    x=n_synth_sample,\n",
    "    y=df_mc_top50.loc[\"mean\"],\n",
    "    yerr=df_mc_top50.loc[\"std\"],\n",
    "    color=\"blue\",\n",
    "    linewidth=1,\n",
    "    marker=\"s\",\n",
    "    mfc=\"blue\",\n",
    "    mec=\"blue\",\n",
    "    ms=5,\n",
    "    ecolor=\"blue\",\n",
    "    elinewidth=2,\n",
    "    capsize=5,\n",
    "    capthick=2,\n",
    "    label=\"MC Membership\",\n",
    ")\n",
    "axs[1].set_xscale(\"log\")\n",
    "axs[1].set_xlabel(\"# of synthetic samples\")\n",
    "axs[1].set(ylim=[0.3, 0.8])\n",
    "axs[1].legend()\n",
    "axs[1].set_title(\"Top 50% precision\")\n",
    "plt.savefig(f\"{generator}_ganleaks_mc_result.png\", dpi=1200)\n",
    "plt.show()"
   ]
  }
 ],
 "metadata": {
  "kernelspec": {
   "display_name": "Python 3 (ipykernel)",
   "language": "python",
   "name": "python3"
  },
  "language_info": {
   "codemirror_mode": {
    "name": "ipython",
    "version": 3
   },
   "file_extension": ".py",
   "mimetype": "text/x-python",
   "name": "python",
   "nbconvert_exporter": "python",
   "pygments_lexer": "ipython3",
   "version": "3.10.11"
  }
 },
 "nbformat": 4,
 "nbformat_minor": 5
}
