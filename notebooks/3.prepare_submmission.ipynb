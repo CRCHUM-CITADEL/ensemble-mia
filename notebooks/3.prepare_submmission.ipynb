{
 "cells": [
  {
   "cell_type": "markdown",
   "id": "44e048a5-40ad-48d6-9d5b-6c694dbee289",
   "metadata": {},
   "source": [
    "# Prepare submission file\n",
    "Prepare the submission file with predicions from dev and final "
   ]
  },
  {
   "cell_type": "markdown",
   "id": "94b1775a-f603-43ad-9f79-03ff2bcb39d9",
   "metadata": {},
   "source": [
    "# Import and configs"
   ]
  },
  {
   "cell_type": "code",
   "execution_count": 1,
   "id": "9da4db12-18fc-44db-9705-51dc4675651e",
   "metadata": {},
   "outputs": [],
   "source": [
    "# Standard\n",
    "import sys\n",
    "\n",
    "sys.path.append(\"..\")\n",
    "from pathlib import Path\n",
    "\n",
    "# Local\n",
    "from src.utils import standard"
   ]
  },
  {
   "cell_type": "code",
   "execution_count": 2,
   "id": "0c222b93-0bdd-4c55-8c55-8f6d68b79152",
   "metadata": {},
   "outputs": [],
   "source": [
    "model_name = \"blending_plus_plus\"\n",
    "tasks = [\"tabddpm_black_box\"]\n",
    "file_path = Path(\"../output/infer/\")"
   ]
  },
  {
   "cell_type": "markdown",
   "id": "6b7ccce4-7014-4c0a-a3f5-85335f713d04",
   "metadata": {},
   "source": [
    "# Prepare zip file"
   ]
  },
  {
   "cell_type": "code",
   "execution_count": 3,
   "id": "550ba184-acbc-42f6-bb1e-06cc86183c85",
   "metadata": {},
   "outputs": [],
   "source": [
    "standard.zip_files(model_name=model_name, tasks=tasks, file_path=file_path)"
   ]
  },
  {
   "cell_type": "code",
   "execution_count": null,
   "id": "bcbaf14d-d1a4-4dc3-99b2-f6da06c3484c",
   "metadata": {},
   "outputs": [],
   "source": []
  }
 ],
 "metadata": {
  "kernelspec": {
   "display_name": "Python 3 (ipykernel)",
   "language": "python",
   "name": "python3"
  },
  "language_info": {
   "codemirror_mode": {
    "name": "ipython",
    "version": 3
   },
   "file_extension": ".py",
   "mimetype": "text/x-python",
   "name": "python",
   "nbconvert_exporter": "python",
   "pygments_lexer": "ipython3",
   "version": "3.10.11"
  }
 },
 "nbformat": 4,
 "nbformat_minor": 5
}
