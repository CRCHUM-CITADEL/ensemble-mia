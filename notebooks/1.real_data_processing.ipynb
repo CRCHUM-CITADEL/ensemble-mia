{
 "cells": [
  {
   "cell_type": "markdown",
   "id": "343e5c3c-7c9a-467e-8b4d-f351b5a5b3e1",
   "metadata": {},
   "source": [
    "# MIDST Challenge\n",
    "Black-box MIA on single table given synthetic and holdout real data"
   ]
  },
  {
   "cell_type": "markdown",
   "id": "5551ee6d-fbb6-4a09-982c-de9193b32d2b",
   "metadata": {},
   "source": [
    "# Import packages"
   ]
  },
  {
   "cell_type": "code",
   "execution_count": 1,
   "id": "c9ba0212-478b-4c32-88e6-b3f2cbf130ab",
   "metadata": {},
   "outputs": [],
   "source": [
    "# Standard\n",
    "import sys\n",
    "\n",
    "sys.path.append(\"..\")\n",
    "\n",
    "from pathlib import Path\n",
    "\n",
    "# 3rd party\n",
    "import pandas as pd\n",
    "\n",
    "# Local\n",
    "from src.data import process"
   ]
  },
  {
   "cell_type": "markdown",
   "id": "5cf7ee0a-4546-44b7-af2c-7dc40e6b02b6",
   "metadata": {},
   "source": [
    "# 1.Configuration"
   ]
  },
  {
   "cell_type": "code",
   "execution_count": 23,
   "id": "ee4995e3-57c3-4c46-beb2-7ae85bee052a",
   "metadata": {},
   "outputs": [],
   "source": [
    "# Paths\n",
    "data_dir = Path(\"../data\")\n",
    "\n",
    "# Id of all train sets\n",
    "data_id = range(1, 31)\n",
    "\n",
    "# Destination folder to save population data\n",
    "dest_dir = Path(\"../input\") / \"population\""
   ]
  },
  {
   "cell_type": "markdown",
   "id": "ef1c2bb9-d2f3-4f79-8390-97129ef0015f",
   "metadata": {},
   "source": [
    "# 2.Load data\n",
    "Collect all the real data used to train model for different scenarios"
   ]
  },
  {
   "cell_type": "code",
   "execution_count": 3,
   "id": "7e6a338f-f7a9-4674-b902-5401ca90ddc7",
   "metadata": {},
   "outputs": [],
   "source": [
    "population = []"
   ]
  },
  {
   "cell_type": "code",
   "execution_count": 4,
   "id": "42aef2a5-0fb1-42e0-bc6e-78f67b5b49cf",
   "metadata": {},
   "outputs": [],
   "source": [
    "def collect_data(attack_type, data_dir, data_id, is_single_table):\n",
    "    gen_name = attack_type.split(\"_\")[0]\n",
    "\n",
    "    for i in data_id:\n",
    "        if is_single_table:\n",
    "            data_dir_ith = (\n",
    "                data_dir\n",
    "                / attack_type\n",
    "                / \"train\"\n",
    "                / f\"{gen_name}_{i}\"\n",
    "                / \"train_with_id.csv\"\n",
    "            )\n",
    "        else:\n",
    "            data_dir_ith = (\n",
    "                data_dir / attack_type / \"train\" / f\"{gen_name}_{i}\" / \"trans.csv\"\n",
    "            )\n",
    "\n",
    "        df_real_ith = pd.read_csv(data_dir_ith)\n",
    "\n",
    "        if i == 1:\n",
    "            df_real = df_real_ith\n",
    "        else:\n",
    "            df_real = pd.concat([df_real, df_real_ith])\n",
    "\n",
    "    df_real = df_real.drop_duplicates()\n",
    "\n",
    "    return df_real"
   ]
  },
  {
   "cell_type": "markdown",
   "id": "88cdcf2a-9b32-4956-9b81-ff29c99129ec",
   "metadata": {},
   "source": [
    "## 2.1 Single table"
   ]
  },
  {
   "cell_type": "markdown",
   "id": "76916d4d-a0ac-4ca7-8cf8-3459fccefb18",
   "metadata": {},
   "source": [
    "### 2.1.1 Black box"
   ]
  },
  {
   "cell_type": "markdown",
   "id": "49d7463b-25dc-4fdb-8309-ebbb1ba5c6a0",
   "metadata": {},
   "source": [
    "#### I.TabDDPM"
   ]
  },
  {
   "cell_type": "code",
   "execution_count": 5,
   "id": "436a183a-2a9b-427c-b160-30d14d5d78a8",
   "metadata": {},
   "outputs": [],
   "source": [
    "df_real = collect_data(\n",
    "    attack_type=\"tabddpm_black_box\",\n",
    "    data_dir=data_dir,\n",
    "    data_id=data_id,\n",
    "    is_single_table=True,\n",
    ")\n",
    "\n",
    "population.append(df_real)"
   ]
  },
  {
   "cell_type": "code",
   "execution_count": 6,
   "id": "87323c67-db81-4902-9437-7160c64f4a5b",
   "metadata": {},
   "outputs": [
    {
     "data": {
      "text/plain": [
       "(460972, 10)"
      ]
     },
     "execution_count": 6,
     "metadata": {},
     "output_type": "execute_result"
    }
   ],
   "source": [
    "df_real.shape"
   ]
  },
  {
   "cell_type": "markdown",
   "id": "e5fc1fc7-cf9c-4a9e-bfa9-58199a6df4e0",
   "metadata": {},
   "source": [
    "#### II.TabSyn"
   ]
  },
  {
   "cell_type": "code",
   "execution_count": 7,
   "id": "fd1afce5-4fab-4262-b12c-d044409fe6b6",
   "metadata": {},
   "outputs": [],
   "source": [
    "df_real = collect_data(\n",
    "    attack_type=\"tabsyn_black_box\",\n",
    "    data_dir=data_dir,\n",
    "    data_id=data_id,\n",
    "    is_single_table=True,\n",
    ")\n",
    "\n",
    "population.append(df_real)"
   ]
  },
  {
   "cell_type": "code",
   "execution_count": 8,
   "id": "256e61be-2a46-496f-babb-70e00b6013ac",
   "metadata": {},
   "outputs": [
    {
     "data": {
      "text/plain": [
       "(461083, 10)"
      ]
     },
     "execution_count": 8,
     "metadata": {},
     "output_type": "execute_result"
    }
   ],
   "source": [
    "df_real.shape"
   ]
  },
  {
   "cell_type": "markdown",
   "id": "efa89010-e50f-4dee-a320-df9fadf92518",
   "metadata": {},
   "source": [
    "### 2.1.2 White box"
   ]
  },
  {
   "cell_type": "markdown",
   "id": "20ba7508-e54e-4b72-87a9-5fc4ad57970b",
   "metadata": {},
   "source": [
    "#### I.TabDDPM"
   ]
  },
  {
   "cell_type": "code",
   "execution_count": 9,
   "id": "0f870f0c-01cd-4e9a-93eb-d3c752e7c6be",
   "metadata": {},
   "outputs": [],
   "source": [
    "df_real = collect_data(\n",
    "    attack_type=\"tabddpm_white_box\",\n",
    "    data_dir=data_dir,\n",
    "    data_id=data_id,\n",
    "    is_single_table=True,\n",
    ")\n",
    "\n",
    "population.append(df_real)"
   ]
  },
  {
   "cell_type": "code",
   "execution_count": 10,
   "id": "d1b525d4-4c4e-4e31-b5cc-a6de97ece358",
   "metadata": {},
   "outputs": [
    {
     "data": {
      "text/plain": [
       "(460972, 10)"
      ]
     },
     "execution_count": 10,
     "metadata": {},
     "output_type": "execute_result"
    }
   ],
   "source": [
    "df_real.shape"
   ]
  },
  {
   "cell_type": "markdown",
   "id": "37b709e0-5403-4d37-93be-4fa0cfb68c9c",
   "metadata": {},
   "source": [
    "#### II.TabSyn"
   ]
  },
  {
   "cell_type": "code",
   "execution_count": 11,
   "id": "01051b02-b7a8-44fd-930f-9b8cb8b1cd3a",
   "metadata": {},
   "outputs": [],
   "source": [
    "df_real = collect_data(\n",
    "    attack_type=\"tabsyn_white_box\",\n",
    "    data_dir=data_dir,\n",
    "    data_id=data_id,\n",
    "    is_single_table=True,\n",
    ")\n",
    "\n",
    "population.append(df_real)"
   ]
  },
  {
   "cell_type": "code",
   "execution_count": 12,
   "id": "37c7ca44-0471-4968-8edd-6930d9bd2b16",
   "metadata": {},
   "outputs": [
    {
     "data": {
      "text/plain": [
       "(461083, 10)"
      ]
     },
     "execution_count": 12,
     "metadata": {},
     "output_type": "execute_result"
    }
   ],
   "source": [
    "df_real.shape"
   ]
  },
  {
   "cell_type": "markdown",
   "id": "6f880ed0-a88e-4bed-8ee2-1e56132b7a76",
   "metadata": {},
   "source": [
    "## 2.2 Multi tables"
   ]
  },
  {
   "cell_type": "markdown",
   "id": "25651ccc-b18e-45f3-a037-04ec4e13a45d",
   "metadata": {},
   "source": [
    "### 2.2.1 Black box"
   ]
  },
  {
   "cell_type": "code",
   "execution_count": 13,
   "id": "63a6f17a-b2bf-4030-8ef1-44319bf39225",
   "metadata": {},
   "outputs": [],
   "source": [
    "df_real = collect_data(\n",
    "    attack_type=\"clavaddpm_black_box\",\n",
    "    data_dir=data_dir,\n",
    "    data_id=data_id,\n",
    "    is_single_table=False,\n",
    ")\n",
    "\n",
    "population.append(df_real)"
   ]
  },
  {
   "cell_type": "code",
   "execution_count": 14,
   "id": "f31a6b8d-de75-4cf4-9f11-dfeece0886eb",
   "metadata": {},
   "outputs": [
    {
     "data": {
      "text/plain": [
       "(461127, 10)"
      ]
     },
     "execution_count": 14,
     "metadata": {},
     "output_type": "execute_result"
    }
   ],
   "source": [
    "df_real.shape"
   ]
  },
  {
   "cell_type": "markdown",
   "id": "70e5dd59-1859-4dd4-a510-5fe29f7bd24a",
   "metadata": {},
   "source": [
    "### 2.2.2 White box"
   ]
  },
  {
   "cell_type": "code",
   "execution_count": 15,
   "id": "4a063e6a-0418-493b-a7cf-79cb0e074edf",
   "metadata": {},
   "outputs": [],
   "source": [
    "df_real = collect_data(\n",
    "    attack_type=\"clavaddpm_white_box\",\n",
    "    data_dir=data_dir,\n",
    "    data_id=data_id,\n",
    "    is_single_table=False,\n",
    ")\n",
    "\n",
    "population.append(df_real)"
   ]
  },
  {
   "cell_type": "code",
   "execution_count": 16,
   "id": "b70d1ca5-6d55-46b7-80ad-d2fcd262ba8a",
   "metadata": {},
   "outputs": [
    {
     "data": {
      "text/plain": [
       "(461127, 10)"
      ]
     },
     "execution_count": 16,
     "metadata": {},
     "output_type": "execute_result"
    }
   ],
   "source": [
    "df_real.shape"
   ]
  },
  {
   "cell_type": "markdown",
   "id": "b3729be2-65c0-45fd-8b78-dd9d85ed4945",
   "metadata": {},
   "source": [
    "## 2.3 Combine data"
   ]
  },
  {
   "cell_type": "code",
   "execution_count": 17,
   "id": "907daac1-128c-4058-948c-64deb346a286",
   "metadata": {},
   "outputs": [],
   "source": [
    "df_population = pd.concat(population)"
   ]
  },
  {
   "cell_type": "code",
   "execution_count": 18,
   "id": "eeea5018-67e8-48cb-a0ec-863c7629bcfa",
   "metadata": {},
   "outputs": [],
   "source": [
    "df_population = df_population.drop_duplicates()"
   ]
  },
  {
   "cell_type": "code",
   "execution_count": 19,
   "id": "97963a4f-0c7c-4ae4-ad59-0d86c2709f08",
   "metadata": {},
   "outputs": [
    {
     "data": {
      "text/plain": [
       "(867494, 10)"
      ]
     },
     "execution_count": 19,
     "metadata": {},
     "output_type": "execute_result"
    }
   ],
   "source": [
    "df_population.shape"
   ]
  },
  {
   "cell_type": "code",
   "execution_count": 20,
   "id": "2a844d1e-a081-41a7-8e04-2d1fd889d760",
   "metadata": {},
   "outputs": [],
   "source": [
    "# Drop ids\n",
    "df_population_no_id = df_population.drop(columns=[\"trans_id\", \"account_id\"])"
   ]
  },
  {
   "cell_type": "code",
   "execution_count": 24,
   "id": "a97423b7-458f-422e-b5b1-64f87c19c4a8",
   "metadata": {},
   "outputs": [],
   "source": [
    "df_population.to_csv(\n",
    "    dest_dir / \"population_all.csv\",\n",
    "    index=False,\n",
    ")\n",
    "\n",
    "df_population_no_id.to_csv(\n",
    "    dest_dir / \"population_all_no_id.csv\",\n",
    "    index=False,\n",
    ")"
   ]
  },
  {
   "cell_type": "markdown",
   "id": "12618590-41d1-4bab-acd5-b0bc95aff598",
   "metadata": {},
   "source": [
    "## 2.4 Add/remove challenge points\n",
    "Create population data with and without all the challenge points"
   ]
  },
  {
   "cell_type": "code",
   "execution_count": 26,
   "id": "b9dc458b-2e69-4ace-bcdc-91049ced9400",
   "metadata": {},
   "outputs": [],
   "source": [
    "def collect_challenge_points(attack_type, data_dir, data_id, dataset):\n",
    "    gen_name = attack_type.split(\"_\")[0]\n",
    "\n",
    "    for idx, i in enumerate(data_id): \n",
    "        data_dir_ith = (\n",
    "            data_dir\n",
    "            / attack_type\n",
    "            / dataset\n",
    "            / f\"{gen_name}_{i}\"\n",
    "            / \"challenge_with_id.csv\"\n",
    "        )\n",
    "       \n",
    "        df_test_ith = pd.read_csv(data_dir_ith)\n",
    "\n",
    "        if idx == 0:\n",
    "            df_test = df_test_ith\n",
    "        else:\n",
    "            df_test = pd.concat([df_test, df_test_ith])\n",
    "\n",
    "    df_test = df_test.drop_duplicates()\n",
    "\n",
    "    return df_test"
   ]
  },
  {
   "cell_type": "code",
   "execution_count": 27,
   "id": "caf99cd9-83e3-49be-b159-e6a4ac715c42",
   "metadata": {},
   "outputs": [],
   "source": [
    "# All the chanllenge points from train\n",
    "\n",
    "data_id = range(1, 31)\n",
    "df_train_folder = collect_challenge_points(\n",
    "    attack_type=\"tabddpm_black_box\",\n",
    "    data_dir=data_dir,\n",
    "    data_id=data_id,\n",
    "    dataset = \"train\"\n",
    ")"
   ]
  },
  {
   "cell_type": "code",
   "execution_count": 28,
   "id": "2580a137-fe96-41f3-81dd-d74dd77fc67b",
   "metadata": {},
   "outputs": [
    {
     "data": {
      "text/plain": [
       "(5978, 10)"
      ]
     },
     "execution_count": 28,
     "metadata": {},
     "output_type": "execute_result"
    }
   ],
   "source": [
    "df_train_folder.shape"
   ]
  },
  {
   "cell_type": "code",
   "execution_count": 29,
   "id": "a1ba5b7e-2f57-4426-a501-b839b29399e2",
   "metadata": {},
   "outputs": [],
   "source": [
    "# All the chanllenge points from dev\n",
    "\n",
    "data_id = list(range(51, 61)) + list(range(91, 101))\n",
    "df_dev_folder = collect_challenge_points(\n",
    "    attack_type=\"tabddpm_black_box\",\n",
    "    data_dir=data_dir,\n",
    "    data_id=data_id,\n",
    "    dataset = \"dev\"\n",
    ")"
   ]
  },
  {
   "cell_type": "code",
   "execution_count": 30,
   "id": "63fae411-c06f-45b2-9fb5-495362bab6cf",
   "metadata": {},
   "outputs": [
    {
     "data": {
      "text/plain": [
       "(3996, 10)"
      ]
     },
     "execution_count": 30,
     "metadata": {},
     "output_type": "execute_result"
    }
   ],
   "source": [
    "df_dev_folder.shape"
   ]
  },
  {
   "cell_type": "code",
   "execution_count": 31,
   "id": "afe97902-4cda-45a9-b8a8-27c8bc9acf24",
   "metadata": {},
   "outputs": [],
   "source": [
    "# All the chanllenge points from dev final \n",
    "\n",
    "data_id = list(range(61, 71)) + list(range(101, 111))\n",
    "df_final_folder = collect_challenge_points(\n",
    "    attack_type=\"tabddpm_black_box\",\n",
    "    data_dir=data_dir,\n",
    "    data_id=data_id,\n",
    "    dataset = \"final\"\n",
    ")"
   ]
  },
  {
   "cell_type": "code",
   "execution_count": 32,
   "id": "6f4a5afc-19ea-4276-9a3c-4e34197df028",
   "metadata": {},
   "outputs": [
    {
     "data": {
      "text/plain": [
       "(3991, 10)"
      ]
     },
     "execution_count": 32,
     "metadata": {},
     "output_type": "execute_result"
    }
   ],
   "source": [
    "df_final_folder.shape"
   ]
  },
  {
   "cell_type": "code",
   "execution_count": 33,
   "id": "6a68cdee-7c22-4dc0-95ed-e081e55a306d",
   "metadata": {},
   "outputs": [
    {
     "data": {
      "text/plain": [
       "(13896, 10)"
      ]
     },
     "execution_count": 33,
     "metadata": {},
     "output_type": "execute_result"
    }
   ],
   "source": [
    "# All the challenge points\n",
    "df_challenge_all = pd.concat([df_train_folder, df_dev_folder, df_final_folder]).drop_duplicates()\n",
    "df_challenge_all.shape"
   ]
  },
  {
   "cell_type": "code",
   "execution_count": 34,
   "id": "e6722771-69ac-4cfd-8e5e-450e1b672a58",
   "metadata": {},
   "outputs": [],
   "source": [
    "# Save all the challenge points\n",
    "df_challenge_all.to_csv(\n",
    "    dest_dir / \"challenge_points_all.csv\",\n",
    "    index=False,\n",
    ")"
   ]
  },
  {
   "cell_type": "code",
   "execution_count": 40,
   "id": "fa05e94f-4f22-43e6-888d-b4dd18cb5848",
   "metadata": {},
   "outputs": [],
   "source": [
    "df_population_no_challenge = df_population[~df_population[\"trans_id\"].isin(df_challenge_all[\"trans_id\"])]"
   ]
  },
  {
   "cell_type": "code",
   "execution_count": 41,
   "id": "e870d309-5fb6-4086-a387-a7884d0415f4",
   "metadata": {},
   "outputs": [
    {
     "data": {
      "text/plain": [
       "(855644, 10)"
      ]
     },
     "execution_count": 41,
     "metadata": {},
     "output_type": "execute_result"
    }
   ],
   "source": [
    "df_population_no_challenge.shape"
   ]
  },
  {
   "cell_type": "code",
   "execution_count": 42,
   "id": "edc06dec-9656-4415-982e-a21edc209566",
   "metadata": {},
   "outputs": [],
   "source": [
    "df_population_no_challenge.to_csv(\n",
    "    dest_dir / \"population_all_no_challenge.csv\",\n",
    "    index=False,\n",
    ")"
   ]
  },
  {
   "cell_type": "code",
   "execution_count": 43,
   "id": "afc9fb9c-6a54-4160-99f8-0167496f8c98",
   "metadata": {},
   "outputs": [],
   "source": [
    "df_population_no_challenge_no_id = df_population_no_challenge.drop(columns=[\"trans_id\", \"account_id\"])"
   ]
  },
  {
   "cell_type": "code",
   "execution_count": 45,
   "id": "79f955e8-1437-4eec-82b8-30a52c646de2",
   "metadata": {},
   "outputs": [],
   "source": [
    "df_population_no_challenge_no_id.to_csv(\n",
    "    dest_dir / \"population_all_no_challenge_no_id.csv\",\n",
    "    index=False,\n",
    ")"
   ]
  },
  {
   "cell_type": "code",
   "execution_count": 46,
   "id": "2f92afa9-cf48-4250-a0fd-2171a41bd528",
   "metadata": {},
   "outputs": [
    {
     "data": {
      "text/plain": [
       "(869540, 10)"
      ]
     },
     "execution_count": 46,
     "metadata": {},
     "output_type": "execute_result"
    }
   ],
   "source": [
    "df_population_with_challenge = pd.concat([df_population_no_challenge, df_challenge_all])\n",
    "df_population_with_challenge.shape"
   ]
  },
  {
   "cell_type": "code",
   "execution_count": 47,
   "id": "1868115d-0721-408f-88ea-630ae7191321",
   "metadata": {},
   "outputs": [
    {
     "data": {
      "text/plain": [
       "(13896, 10)"
      ]
     },
     "execution_count": 47,
     "metadata": {},
     "output_type": "execute_result"
    }
   ],
   "source": [
    "df_population_with_challenge[df_population_with_challenge[\"trans_id\"].isin(df_challenge_all[\"trans_id\"])].shape"
   ]
  },
  {
   "cell_type": "code",
   "execution_count": 48,
   "id": "04f22552-7419-4eb7-b5ac-45cd3a40e1e6",
   "metadata": {},
   "outputs": [],
   "source": [
    "df_population_with_challenge.to_csv(\n",
    "    dest_dir / \"population_all_with_challenge.csv\",\n",
    "    index=False,\n",
    ")"
   ]
  },
  {
   "cell_type": "code",
   "execution_count": 49,
   "id": "c8649656-5e3b-469b-bca8-e1f645bce88b",
   "metadata": {},
   "outputs": [
    {
     "data": {
      "text/plain": [
       "(869540, 8)"
      ]
     },
     "execution_count": 49,
     "metadata": {},
     "output_type": "execute_result"
    }
   ],
   "source": [
    "df_population_with_challenge_no_id = df_population_with_challenge.drop(columns=[\"trans_id\", \"account_id\"])\n",
    "df_population_with_challenge_no_id.shape"
   ]
  },
  {
   "cell_type": "code",
   "execution_count": 50,
   "id": "8d659b4d-43c6-4b6b-b90e-e822cae552df",
   "metadata": {},
   "outputs": [],
   "source": [
    "df_population_with_challenge_no_id.to_csv(\n",
    "    dest_dir / \"population_all_with_challenge_no_id.csv\",\n",
    "    index=False,\n",
    ")"
   ]
  },
  {
   "cell_type": "code",
   "execution_count": null,
   "id": "4ce6479d-b240-4a99-bbd1-4cb313d2ffeb",
   "metadata": {},
   "outputs": [],
   "source": []
  }
 ],
 "metadata": {
  "kernelspec": {
   "display_name": "Python 3 (ipykernel)",
   "language": "python",
   "name": "python3"
  },
  "language_info": {
   "codemirror_mode": {
    "name": "ipython",
    "version": 3
   },
   "file_extension": ".py",
   "mimetype": "text/x-python",
   "name": "python",
   "nbconvert_exporter": "python",
   "pygments_lexer": "ipython3",
   "version": "3.10.11"
  }
 },
 "nbformat": 4,
 "nbformat_minor": 5
}
