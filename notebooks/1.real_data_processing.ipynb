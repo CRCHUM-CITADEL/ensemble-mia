{
 "cells": [
  {
   "cell_type": "markdown",
   "id": "343e5c3c-7c9a-467e-8b4d-f351b5a5b3e1",
   "metadata": {},
   "source": [
    "# MIDST Challenge\n",
    "Black-box MIA on single table given synthetic and holdout real data"
   ]
  },
  {
   "cell_type": "markdown",
   "id": "5551ee6d-fbb6-4a09-982c-de9193b32d2b",
   "metadata": {},
   "source": [
    "# Import packages"
   ]
  },
  {
   "cell_type": "code",
   "execution_count": 1,
   "id": "c9ba0212-478b-4c32-88e6-b3f2cbf130ab",
   "metadata": {},
   "outputs": [],
   "source": [
    "# Standard\n",
    "import sys\n",
    "\n",
    "sys.path.append(\"..\")\n",
    "\n",
    "from pathlib import Path\n",
    "\n",
    "# 3rd party\n",
    "import pandas as pd\n",
    "\n",
    "# Local\n",
    "from src.data import process"
   ]
  },
  {
   "cell_type": "markdown",
   "id": "5cf7ee0a-4546-44b7-af2c-7dc40e6b02b6",
   "metadata": {},
   "source": [
    "# 1.Configuration"
   ]
  },
  {
   "cell_type": "code",
   "execution_count": 2,
   "id": "ee4995e3-57c3-4c46-beb2-7ae85bee052a",
   "metadata": {},
   "outputs": [],
   "source": [
    "# Paths\n",
    "data_dir = Path(\"/data8/projets/dev_synthetic_data/data/MIDST/tabsyn_black_box\")\n",
    "\n",
    "# Id of all train sets\n",
    "data_id = range(1, 31)\n",
    "\n",
    "# Destination folder to save data\n",
    "dest_dir = data_dir / \"population\""
   ]
  },
  {
   "cell_type": "markdown",
   "id": "ef1c2bb9-d2f3-4f79-8390-97129ef0015f",
   "metadata": {},
   "source": [
    "# 2.Load data\n",
    "Collect all the real data used to train model"
   ]
  },
  {
   "cell_type": "code",
   "execution_count": 3,
   "id": "e5c0dfeb-dbad-4460-b71b-39f45e1ce1b0",
   "metadata": {},
   "outputs": [],
   "source": [
    "for i in data_id:\n",
    "    data_dir_ith = data_dir / \"train\" / f\"tabsyn_{i}\" / \"train_with_id.csv\"\n",
    "    df_real_ith = pd.read_csv(data_dir_ith)\n",
    "\n",
    "    if i == 1:\n",
    "        df_real = df_real_ith\n",
    "    else:\n",
    "        df_real = pd.concat([df_real, df_real_ith])"
   ]
  },
  {
   "cell_type": "code",
   "execution_count": 4,
   "id": "dd3fdb6a-9006-4a31-99c8-1a2ccae27798",
   "metadata": {},
   "outputs": [],
   "source": [
    "df_real = df_real.drop_duplicates()"
   ]
  },
  {
   "cell_type": "code",
   "execution_count": 5,
   "id": "87323c67-db81-4902-9437-7160c64f4a5b",
   "metadata": {},
   "outputs": [
    {
     "data": {
      "text/plain": [
       "(461083, 10)"
      ]
     },
     "execution_count": 5,
     "metadata": {},
     "output_type": "execute_result"
    }
   ],
   "source": [
    "df_real.shape"
   ]
  },
  {
   "cell_type": "code",
   "execution_count": 6,
   "id": "9ad93f56-a5ba-421f-a658-06fa4c60e939",
   "metadata": {},
   "outputs": [
    {
     "data": {
      "text/html": [
       "<div>\n",
       "<style scoped>\n",
       "    .dataframe tbody tr th:only-of-type {\n",
       "        vertical-align: middle;\n",
       "    }\n",
       "\n",
       "    .dataframe tbody tr th {\n",
       "        vertical-align: top;\n",
       "    }\n",
       "\n",
       "    .dataframe thead th {\n",
       "        text-align: right;\n",
       "    }\n",
       "</style>\n",
       "<table border=\"1\" class=\"dataframe\">\n",
       "  <thead>\n",
       "    <tr style=\"text-align: right;\">\n",
       "      <th></th>\n",
       "      <th>trans_id</th>\n",
       "      <th>account_id</th>\n",
       "      <th>trans_date</th>\n",
       "      <th>trans_type</th>\n",
       "      <th>operation</th>\n",
       "      <th>amount</th>\n",
       "      <th>balance</th>\n",
       "      <th>k_symbol</th>\n",
       "      <th>bank</th>\n",
       "      <th>account</th>\n",
       "    </tr>\n",
       "  </thead>\n",
       "  <tbody>\n",
       "    <tr>\n",
       "      <th>0</th>\n",
       "      <td>330530</td>\n",
       "      <td>1126</td>\n",
       "      <td>336</td>\n",
       "      <td>0</td>\n",
       "      <td>3</td>\n",
       "      <td>2400.0</td>\n",
       "      <td>20515.0</td>\n",
       "      <td>1</td>\n",
       "      <td>0</td>\n",
       "      <td>0</td>\n",
       "    </tr>\n",
       "    <tr>\n",
       "      <th>1</th>\n",
       "      <td>50642</td>\n",
       "      <td>169</td>\n",
       "      <td>2129</td>\n",
       "      <td>2</td>\n",
       "      <td>4</td>\n",
       "      <td>14.6</td>\n",
       "      <td>65847.0</td>\n",
       "      <td>6</td>\n",
       "      <td>0</td>\n",
       "      <td>0</td>\n",
       "    </tr>\n",
       "    <tr>\n",
       "      <th>2</th>\n",
       "      <td>931992</td>\n",
       "      <td>3178</td>\n",
       "      <td>1641</td>\n",
       "      <td>2</td>\n",
       "      <td>4</td>\n",
       "      <td>14.6</td>\n",
       "      <td>13507.4</td>\n",
       "      <td>6</td>\n",
       "      <td>0</td>\n",
       "      <td>0</td>\n",
       "    </tr>\n",
       "    <tr>\n",
       "      <th>3</th>\n",
       "      <td>1058060</td>\n",
       "      <td>3617</td>\n",
       "      <td>515</td>\n",
       "      <td>2</td>\n",
       "      <td>4</td>\n",
       "      <td>14.6</td>\n",
       "      <td>36742.7</td>\n",
       "      <td>6</td>\n",
       "      <td>0</td>\n",
       "      <td>0</td>\n",
       "    </tr>\n",
       "    <tr>\n",
       "      <th>4</th>\n",
       "      <td>564471</td>\n",
       "      <td>1921</td>\n",
       "      <td>1984</td>\n",
       "      <td>0</td>\n",
       "      <td>2</td>\n",
       "      <td>3650.0</td>\n",
       "      <td>16299.2</td>\n",
       "      <td>1</td>\n",
       "      <td>8</td>\n",
       "      <td>78194778</td>\n",
       "    </tr>\n",
       "  </tbody>\n",
       "</table>\n",
       "</div>"
      ],
      "text/plain": [
       "   trans_id  account_id  trans_date  trans_type  operation  amount  balance  \\\n",
       "0    330530        1126         336           0          3  2400.0  20515.0   \n",
       "1     50642         169        2129           2          4    14.6  65847.0   \n",
       "2    931992        3178        1641           2          4    14.6  13507.4   \n",
       "3   1058060        3617         515           2          4    14.6  36742.7   \n",
       "4    564471        1921        1984           0          2  3650.0  16299.2   \n",
       "\n",
       "   k_symbol  bank   account  \n",
       "0         1     0         0  \n",
       "1         6     0         0  \n",
       "2         6     0         0  \n",
       "3         6     0         0  \n",
       "4         1     8  78194778  "
      ]
     },
     "execution_count": 6,
     "metadata": {},
     "output_type": "execute_result"
    }
   ],
   "source": [
    "df_real.head()"
   ]
  },
  {
   "cell_type": "code",
   "execution_count": 7,
   "id": "a97423b7-458f-422e-b5b1-64f87c19c4a8",
   "metadata": {},
   "outputs": [],
   "source": [
    "df_real.to_csv(\n",
    "    dest_dir / \"real_all.csv\",\n",
    "    index=False,\n",
    ")"
   ]
  },
  {
   "cell_type": "markdown",
   "id": "c1b6c8d6-4c88-45fd-8517-5ec134172f6a",
   "metadata": {},
   "source": [
    "# 2 Split data\n",
    "- Sample a subset of real data\n",
    "- Split the real data into train, val and test set"
   ]
  },
  {
   "cell_type": "code",
   "execution_count": 7,
   "id": "2610e96d-a5ea-4109-b711-b0808314be72",
   "metadata": {},
   "outputs": [],
   "source": [
    "df_real_sample = df_real.sample(\n",
    "        n=100000,\n",
    "        replace=False,\n",
    "        ignore_index=True,\n",
    "        random_state=42,\n",
    "    )"
   ]
  },
  {
   "cell_type": "code",
   "execution_count": 8,
   "id": "3d1d7b19-5f3f-4c23-8dac-4b628879916d",
   "metadata": {},
   "outputs": [],
   "source": [
    "df_train, df_val, df_test = process.split_real_data(\n",
    "    df_real_sample,\n",
    "    save_folder=dest_dir,\n",
    "    var_to_stratify=\"trans_type\",\n",
    "    proportion={\"train\": 0.5, \"val\": 0.25},\n",
    "    seed=42,\n",
    ")"
   ]
  },
  {
   "cell_type": "code",
   "execution_count": 9,
   "id": "c4e44572-01c6-449e-add9-cbb962f4b8ec",
   "metadata": {},
   "outputs": [
    {
     "data": {
      "text/plain": [
       "((50000, 10), (25000, 10), (25000, 10))"
      ]
     },
     "execution_count": 9,
     "metadata": {},
     "output_type": "execute_result"
    }
   ],
   "source": [
    "df_train.shape, df_val.shape, df_test.shape"
   ]
  },
  {
   "cell_type": "code",
   "execution_count": 10,
   "id": "80ca57a6-e210-44f4-862b-1ca90726c4d1",
   "metadata": {},
   "outputs": [],
   "source": [
    "# Remove id\n",
    "\n",
    "df_real_all_no_id = df_real.drop(columns=[\"trans_id\", \"account_id\"])\n",
    "df_train_no_id = df_train.drop(columns=[\"trans_id\", \"account_id\"])\n",
    "df_val_no_id = df_val.drop(columns=[\"trans_id\", \"account_id\"])\n",
    "df_test_no_id = df_test.drop(columns=[\"trans_id\", \"account_id\"])"
   ]
  },
  {
   "cell_type": "code",
   "execution_count": 11,
   "id": "7cb37831-3f36-4946-a654-6755d8418102",
   "metadata": {},
   "outputs": [],
   "source": [
    "# Save files\n",
    "\n",
    "df_real_all_no_id.to_csv(\n",
    "    dest_dir / \"real_all_no_id.csv\",\n",
    "    index=False,\n",
    ")\n",
    "df_train_no_id.to_csv(\n",
    "    dest_dir / \"real_train_no_id.csv\",\n",
    "    index=False,\n",
    ")\n",
    "df_val_no_id.to_csv(\n",
    "    dest_dir / \"real_val_no_id.csv\",\n",
    "    index=False,\n",
    ")\n",
    "df_test_no_id.to_csv(\n",
    "    dest_dir / \"real_test_no_id.csv\",\n",
    "    index=False,\n",
    ")\n"
   ]
  },
  {
   "cell_type": "code",
   "execution_count": null,
   "id": "fc7e2270-bf07-40e0-950f-6825c60dc475",
   "metadata": {},
   "outputs": [],
   "source": []
  }
 ],
 "metadata": {
  "kernelspec": {
   "display_name": "Python 3 (ipykernel)",
   "language": "python",
   "name": "python3"
  },
  "language_info": {
   "codemirror_mode": {
    "name": "ipython",
    "version": 3
   },
   "file_extension": ".py",
   "mimetype": "text/x-python",
   "name": "python",
   "nbconvert_exporter": "python",
   "pygments_lexer": "ipython3",
   "version": "3.10.11"
  }
 },
 "nbformat": 4,
 "nbformat_minor": 5
}
