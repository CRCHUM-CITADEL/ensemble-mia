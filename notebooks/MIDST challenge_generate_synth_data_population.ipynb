{
 "cells": [
  {
   "cell_type": "markdown",
   "id": "343e5c3c-7c9a-467e-8b4d-f351b5a5b3e1",
   "metadata": {},
   "source": [
    "# MIDST Challenge\n",
    "Black-box MIA on single table"
   ]
  },
  {
   "cell_type": "markdown",
   "id": "5551ee6d-fbb6-4a09-982c-de9193b32d2b",
   "metadata": {},
   "source": [
    "# Import packages"
   ]
  },
  {
   "cell_type": "code",
   "execution_count": 1,
   "id": "c9ba0212-478b-4c32-88e6-b3f2cbf130ab",
   "metadata": {},
   "outputs": [],
   "source": [
    "import sys\n",
    "\n",
    "sys.path.append(\"..\")\n",
    "\n",
    "from pathlib import Path\n",
    "\n",
    "import pandas as pd\n",
    "from clover.generators.findiff_generator import FinDiffGenerator"
   ]
  },
  {
   "cell_type": "markdown",
   "id": "5cf7ee0a-4546-44b7-af2c-7dc40e6b02b6",
   "metadata": {},
   "source": [
    "# 1.Configuration"
   ]
  },
  {
   "cell_type": "code",
   "execution_count": 2,
   "id": "ee4995e3-57c3-4c46-beb2-7ae85bee052a",
   "metadata": {},
   "outputs": [],
   "source": [
    "# Paths\n",
    "input_dir = Path(\"/data8/projets/dev_synthetic_data/data/MIDST/tabddpm_black_box/population/\")\n",
    "output_dir = input_dir / \"synth\"\n",
    "\n",
    "# File\n",
    "real_train = \"real_train_no_id.csv\""
   ]
  },
  {
   "cell_type": "markdown",
   "id": "ef1c2bb9-d2f3-4f79-8390-97129ef0015f",
   "metadata": {},
   "source": [
    "# 2.Load real data"
   ]
  },
  {
   "cell_type": "code",
   "execution_count": 3,
   "id": "e5c0dfeb-dbad-4460-b71b-39f45e1ce1b0",
   "metadata": {},
   "outputs": [],
   "source": [
    "df_real_train = pd.read_csv(input_dir / real_train)"
   ]
  },
  {
   "cell_type": "code",
   "execution_count": 4,
   "id": "cddfcc8e-6613-4f99-871b-974e9341a86b",
   "metadata": {},
   "outputs": [
    {
     "data": {
      "text/plain": [
       "(50000, 8)"
      ]
     },
     "execution_count": 4,
     "metadata": {},
     "output_type": "execute_result"
    }
   ],
   "source": [
    "df_real_train.shape"
   ]
  },
  {
   "cell_type": "markdown",
   "id": "50f8123d-9cb6-40b8-9ffa-171a738a4eae",
   "metadata": {},
   "source": [
    "# 3.Generate synthetic data\n",
    "Generate 1st and 2nd generations synthetic data"
   ]
  },
  {
   "cell_type": "code",
   "execution_count": 5,
   "id": "c6d17487-e431-4b50-90f7-e749a7b15a4e",
   "metadata": {},
   "outputs": [],
   "source": [
    "# Metadata of the dataset\n",
    "\n",
    "metadata = {\n",
    "    \"continuous\": [\"trans_date\", \"amount\", \"balance\", \"account\"],\n",
    "    \"categorical\": [\"trans_type\", \"operation\", \"k_symbol\", \"bank\"],\n",
    "    \"variable_to_predict\": \"trans_type\",\n",
    "}"
   ]
  },
  {
   "cell_type": "code",
   "execution_count": 9,
   "id": "57e0f110-5e19-45c6-bd4d-2cf3b707c444",
   "metadata": {},
   "outputs": [],
   "source": [
    "# Train generator\n",
    "\n",
    "gen = FinDiffGenerator(\n",
    "    df=df_real_train,\n",
    "    metadata=metadata,\n",
    "    random_state=None,\n",
    "    generator_filepath=None,\n",
    "    learning_rate=1e-3,\n",
    "    batch_size=256,\n",
    "    diffusion_steps=500,\n",
    "    epochs=500,\n",
    "    mpl_layers=[1024, 1024, 1024, 1024],\n",
    "    activation=\"lrelu\",\n",
    "    dim_t=64,\n",
    "    cat_emb_dim=2,\n",
    "    diff_beta_start_end=[1e-4, 0.02],\n",
    "    scheduler=\"linear\",\n",
    "    epsilon=None,\n",
    ")\n",
    "\n",
    "gen.preprocess()\n",
    "gen.fit(save_path=output_dir / \"1st_gen\")  # the path should exist"
   ]
  },
  {
   "cell_type": "code",
   "execution_count": 10,
   "id": "3747007b-fb62-4034-b8ff-b3ffa7574441",
   "metadata": {},
   "outputs": [],
   "source": [
    "# Generate 1st geneartion synthetic data\n",
    "\n",
    "df_synth_train = gen.sample(\n",
    "    save_path=output_dir / \"1st_gen\",\n",
    "    num_samples=len(df_real_train),\n",
    ")\n",
    "\n",
    "df_synth_test = gen.sample(\n",
    "    save_path=output_dir / \"1st_gen\",\n",
    "    num_samples=len(df_real_train)//2,\n",
    ")"
   ]
  },
  {
   "cell_type": "code",
   "execution_count": 11,
   "id": "35302285-4340-43c1-a106-8cb14bde7788",
   "metadata": {},
   "outputs": [],
   "source": [
    "# Generate 2nd generation synthetic data\n",
    "\n",
    "gen_2nd = FinDiffGenerator(\n",
    "    df=df_synth_train,\n",
    "    metadata=metadata,\n",
    "    random_state=None,\n",
    "    generator_filepath=None,\n",
    "    learning_rate=1e-3,\n",
    "    batch_size=256,\n",
    "    diffusion_steps=500,\n",
    "    epochs=500,\n",
    "    mpl_layers=[1024, 1024, 1024, 1024],\n",
    "    activation=\"lrelu\",\n",
    "    dim_t=64,\n",
    "    cat_emb_dim=2,\n",
    "    diff_beta_start_end=[1e-4, 0.02],\n",
    "    scheduler=\"linear\",\n",
    "    epsilon=None,\n",
    ")\n",
    "\n",
    "gen_2nd.preprocess()\n",
    "gen_2nd.fit(save_path=output_dir / \"2nd_gen\")  # the path should exist\n",
    "\n",
    "df_synth_2nd = gen.sample(\n",
    "    save_path=output_dir / \"2nd_gen\",\n",
    "    num_samples=len(df_real_train)//2,\n",
    ")"
   ]
  },
  {
   "cell_type": "code",
   "execution_count": null,
   "id": "9a46d5f7-7889-46ed-97ed-ec31bb0c409f",
   "metadata": {},
   "outputs": [],
   "source": []
  }
 ],
 "metadata": {
  "kernelspec": {
   "display_name": "Python 3 (ipykernel)",
   "language": "python",
   "name": "python3"
  },
  "language_info": {
   "codemirror_mode": {
    "name": "ipython",
    "version": 3
   },
   "file_extension": ".py",
   "mimetype": "text/x-python",
   "name": "python",
   "nbconvert_exporter": "python",
   "pygments_lexer": "ipython3",
   "version": "3.10.11"
  }
 },
 "nbformat": 4,
 "nbformat_minor": 5
}
